{
 "cells": [
  {
   "cell_type": "markdown",
   "metadata": {
    "collapsed": true
   },
   "source": [
    "# My Jupyter Notebook on IBM Watson Studio"
   ]
  },
  {
   "cell_type": "markdown",
   "metadata": {},
   "source": [
    "**Apolo Mund**\n",
    "\n",
    "Supply Chain Analyst"
   ]
  },
  {
   "cell_type": "markdown",
   "metadata": {},
   "source": [
    "*I intend to learn Data Science to improve my skilss in manipulating data, finding patterns and explanations for the phenomena observed on the organization, and ultimately present the conclusions in a clear and understable way.*"
   ]
  },
  {
   "cell_type": "markdown",
   "metadata": {},
   "source": [
    "### The code below imports the datetime module, then prints a text showing today's date."
   ]
  },
  {
   "cell_type": "code",
   "execution_count": 15,
   "metadata": {},
   "outputs": [
    {
     "name": "stdout",
     "output_type": "stream",
     "text": [
      "Today is 2022-10-04\n"
     ]
    }
   ],
   "source": [
    "import datetime\n",
    "print(f'Today is {str(datetime.datetime.today()).split()[0]}')"
   ]
  },
  {
   "cell_type": "markdown",
   "metadata": {},
   "source": [
    "1. First row\n",
    "2. Second row\n",
    "* Third row\n",
    "* Fourth row\n",
    "\n",
    "|Header A|Header B|\n",
    "|--------|--------|\n",
    "|Element 11|Element 12|\n",
    "|Element 21|Element 22|\n",
    "\n",
    "```python\n",
    "print('Hello World')\n",
    "```"
   ]
  }
 ],
 "metadata": {
  "kernelspec": {
   "display_name": "Python 3.9",
   "language": "python",
   "name": "python3"
  },
  "language_info": {
   "codemirror_mode": {
    "name": "ipython",
    "version": 3
   },
   "file_extension": ".py",
   "mimetype": "text/x-python",
   "name": "python",
   "nbconvert_exporter": "python",
   "pygments_lexer": "ipython3",
   "version": "3.9.12"
  }
 },
 "nbformat": 4,
 "nbformat_minor": 1
}
